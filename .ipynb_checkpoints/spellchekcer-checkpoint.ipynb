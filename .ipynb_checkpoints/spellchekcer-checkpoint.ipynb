{
 "cells": [
  {
   "cell_type": "code",
   "execution_count": 23,
   "metadata": {},
   "outputs": [],
   "source": [
    "from spellchecker import SpellChecker"
   ]
  },
  {
   "cell_type": "code",
   "execution_count": 4,
   "metadata": {},
   "outputs": [
    {
     "data": {
      "text/plain": [
       "['_SpellChecker__edit_distance_alt',\n",
       " '__class__',\n",
       " '__contains__',\n",
       " '__delattr__',\n",
       " '__dir__',\n",
       " '__doc__',\n",
       " '__eq__',\n",
       " '__format__',\n",
       " '__ge__',\n",
       " '__getattribute__',\n",
       " '__getitem__',\n",
       " '__gt__',\n",
       " '__hash__',\n",
       " '__init__',\n",
       " '__init_subclass__',\n",
       " '__le__',\n",
       " '__lt__',\n",
       " '__module__',\n",
       " '__ne__',\n",
       " '__new__',\n",
       " '__reduce__',\n",
       " '__reduce_ex__',\n",
       " '__repr__',\n",
       " '__setattr__',\n",
       " '__sizeof__',\n",
       " '__slots__',\n",
       " '__str__',\n",
       " '__subclasshook__',\n",
       " '_case_sensitive',\n",
       " '_check_if_should_check',\n",
       " '_distance',\n",
       " '_tokenizer',\n",
       " '_word_frequency',\n",
       " 'candidates',\n",
       " 'correction',\n",
       " 'distance',\n",
       " 'edit_distance_1',\n",
       " 'edit_distance_2',\n",
       " 'export',\n",
       " 'known',\n",
       " 'split_words',\n",
       " 'unknown',\n",
       " 'word_frequency',\n",
       " 'word_probability']"
      ]
     },
     "execution_count": 4,
     "metadata": {},
     "output_type": "execute_result"
    }
   ],
   "source": [
    "dir(SpellChecker)"
   ]
  },
  {
   "cell_type": "code",
   "execution_count": 5,
   "metadata": {},
   "outputs": [],
   "source": [
    "spell = SpellChecker()\n"
   ]
  },
  {
   "cell_type": "code",
   "execution_count": 5,
   "metadata": {},
   "outputs": [],
   "source": [
    "docx = [\"calendar\",\"lightening\",\"misspell\",\"neccessary\",\"business\",\"recieve\",\"adress\"]"
   ]
  },
  {
   "cell_type": "code",
   "execution_count": 7,
   "metadata": {},
   "outputs": [
    {
     "name": "stdout",
     "output_type": "stream",
     "text": [
      "calendar:calendar\n",
      "lightening:lightening\n",
      "misspell:misspelt\n",
      "neccessary:necessary\n",
      "business:business\n",
      "recieve:receive\n",
      "adress:address\n"
     ]
    }
   ],
   "source": [
    "for word in docx:\n",
    "    print(f'{word}:{spell.correction(word)}')"
   ]
  },
  {
   "cell_type": "code",
   "execution_count": 8,
   "metadata": {},
   "outputs": [
    {
     "name": "stdout",
     "output_type": "stream",
     "text": [
      "calendar:{'calendar'}\n",
      "lightening:{'lightening'}\n",
      "misspell:{'misspelt'}\n",
      "neccessary:{'necessary'}\n",
      "business:{'business'}\n",
      "recieve:{'receive', 'relieve'}\n",
      "adress:{'andress', 'dress', 'address'}\n"
     ]
    }
   ],
   "source": [
    "for word in docx:\n",
    "    print(f'{word}:{spell.candidates(word)}')"
   ]
  },
  {
   "cell_type": "code",
   "execution_count": 9,
   "metadata": {},
   "outputs": [
    {
     "name": "stdout",
     "output_type": "stream",
     "text": [
      "calendar:calendar:probability1.1543141866393734e-05\n",
      "lightening:lightening:probability8.282074881717477e-07\n",
      "misspell:misspelt:probability0.0\n",
      "neccessary:necessary:probability0.0\n",
      "business:business:probability0.0003701880420255669\n",
      "recieve:receive:probability0.0\n",
      "adress:address:probability0.0\n"
     ]
    }
   ],
   "source": [
    "for word in docx:\n",
    "    print(f'{word}:{spell.correction(word)}:probability{spell.word_probability(word)}')"
   ]
  },
  {
   "cell_type": "code",
   "execution_count": 12,
   "metadata": {},
   "outputs": [],
   "source": [
    "myname = \"Muhammt\""
   ]
  },
  {
   "cell_type": "code",
   "execution_count": 13,
   "metadata": {},
   "outputs": [
    {
     "data": {
      "text/plain": [
       "'muhammad'"
      ]
     },
     "execution_count": 13,
     "metadata": {},
     "output_type": "execute_result"
    }
   ],
   "source": [
    "spell.correction(myname)"
   ]
  },
  {
   "cell_type": "code",
   "execution_count": 14,
   "metadata": {},
   "outputs": [
    {
     "data": {
      "text/plain": [
       "{'mahamat', 'muhammad', 'muhammed'}"
      ]
     },
     "execution_count": 14,
     "metadata": {},
     "output_type": "execute_result"
    }
   ],
   "source": [
    "spell.candidates(myname)"
   ]
  },
  {
   "cell_type": "markdown",
   "metadata": {},
   "source": [
    "BAŞLIK"
   ]
  },
  {
   "cell_type": "code",
   "execution_count": null,
   "metadata": {},
   "outputs": [],
   "source": [
    "new_spell.word_frequency.load_words(['Java','JavaScript','Google','JCharis'])\n",
    "\n",
    "new_spell.correction('JCharis')"
   ]
  },
  {
   "cell_type": "code",
   "execution_count": 24,
   "metadata": {},
   "outputs": [],
   "source": [
    "new_spell = SpellChecker()"
   ]
  },
  {
   "cell_type": "code",
   "execution_count": 3,
   "metadata": {},
   "outputs": [],
   "source": [
    "from autocorrect import spell"
   ]
  },
  {
   "cell_type": "code",
   "execution_count": 6,
   "metadata": {},
   "outputs": [
    {
     "data": {
      "text/plain": [
       "['calendar',\n",
       " 'lightening',\n",
       " 'misspell',\n",
       " 'neccessary',\n",
       " 'business',\n",
       " 'recieve',\n",
       " 'adress']"
      ]
     },
     "execution_count": 6,
     "metadata": {},
     "output_type": "execute_result"
    }
   ],
   "source": [
    "docx\n"
   ]
  },
  {
   "cell_type": "code",
   "execution_count": 9,
   "metadata": {},
   "outputs": [
    {
     "name": "stdout",
     "output_type": "stream",
     "text": [
      "autocorrect.spell is deprecated, use autocorrect.Speller instead\n",
      "calendar\n",
      "autocorrect.spell is deprecated, use autocorrect.Speller instead\n",
      "lightening\n",
      "autocorrect.spell is deprecated, use autocorrect.Speller instead\n",
      "misspell\n",
      "autocorrect.spell is deprecated, use autocorrect.Speller instead\n",
      "necessary\n",
      "autocorrect.spell is deprecated, use autocorrect.Speller instead\n",
      "business\n",
      "autocorrect.spell is deprecated, use autocorrect.Speller instead\n",
      "receive\n",
      "autocorrect.spell is deprecated, use autocorrect.Speller instead\n",
      "dress\n"
     ]
    }
   ],
   "source": [
    "for word in docx:\n",
    "    print(spell(word))"
   ]
  },
  {
   "cell_type": "code",
   "execution_count": 15,
   "metadata": {},
   "outputs": [],
   "source": [
    "import nltk"
   ]
  },
  {
   "cell_type": "code",
   "execution_count": 17,
   "metadata": {},
   "outputs": [
    {
     "name": "stderr",
     "output_type": "stream",
     "text": [
      "[nltk_data] Downloading package punkt to /home/muhammet/nltk_data...\n",
      "[nltk_data]   Unzipping tokenizers/punkt.zip.\n"
     ]
    },
    {
     "data": {
      "text/plain": [
       "True"
      ]
     },
     "execution_count": 17,
     "metadata": {},
     "output_type": "execute_result"
    }
   ],
   "source": [
    "nltk.download('punkt')"
   ]
  },
  {
   "cell_type": "code",
   "execution_count": 11,
   "metadata": {},
   "outputs": [],
   "source": [
    "from textblob import TextBlob,Word"
   ]
  },
  {
   "cell_type": "code",
   "execution_count": 12,
   "metadata": {},
   "outputs": [],
   "source": [
    "ex = TextBlob(\"He was very accomodation in the new location\")"
   ]
  },
  {
   "cell_type": "code",
   "execution_count": 18,
   "metadata": {},
   "outputs": [
    {
     "name": "stdout",
     "output_type": "stream",
     "text": [
      "He : He\n",
      "was : was\n",
      "very : very\n",
      "accomodation : accommodation\n",
      "in : in\n",
      "the : the\n",
      "new : new\n",
      "location : location\n"
     ]
    }
   ],
   "source": [
    "for word in ex.words:\n",
    "    print(word,\":\",word.correct())"
   ]
  },
  {
   "cell_type": "code",
   "execution_count": 19,
   "metadata": {},
   "outputs": [],
   "source": [
    "w = Word(\"abscence\")"
   ]
  },
  {
   "cell_type": "code",
   "execution_count": 20,
   "metadata": {},
   "outputs": [
    {
     "data": {
      "text/plain": [
       "[('absence', 1.0)]"
      ]
     },
     "execution_count": 20,
     "metadata": {},
     "output_type": "execute_result"
    }
   ],
   "source": [
    "w.spellcheck()"
   ]
  },
  {
   "cell_type": "markdown",
   "metadata": {},
   "source": [
    "#### Patern\n",
    "+ An NLP Pkg"
   ]
  },
  {
   "cell_type": "code",
   "execution_count": null,
   "metadata": {},
   "outputs": [],
   "source": []
  }
 ],
 "metadata": {
  "kernelspec": {
   "display_name": "Python 3",
   "language": "python",
   "name": "python3"
  },
  "language_info": {
   "codemirror_mode": {
    "name": "ipython",
    "version": 3
   },
   "file_extension": ".py",
   "mimetype": "text/x-python",
   "name": "python",
   "nbconvert_exporter": "python",
   "pygments_lexer": "ipython3",
   "version": "3.7.4"
  }
 },
 "nbformat": 4,
 "nbformat_minor": 2
}
